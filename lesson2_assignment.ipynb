{
 "cells": [
  {
   "cell_type": "markdown",
   "id": "6866bfa0-cf4e-45b2-a65a-59b8fa0564a7",
   "metadata": {},
   "source": [
    "# Data Science Tools and Ecosystem"
   ]
  },
  {
   "cell_type": "markdown",
   "id": "01bbb13f-6b60-429f-9093-82776c612d31",
   "metadata": {},
   "source": [
    "In this notebook, Data Science Tools and Ecosystem are summarized."
   ]
  },
  {
   "cell_type": "markdown",
   "id": "22825d98-5bae-41fd-bd47-e64a2e0ddb2b",
   "metadata": {},
   "source": [
    "Objectives:\n",
    "- List popular languages for Data Science\n",
    "- List popular development for Data Science\n",
    "- List popular Machine Learning tools\n",
    "- Become familiar with RStudio and JupyterLab\n",
    "- Become familiar with Git and GitHub"
   ]
  },
  {
   "cell_type": "markdown",
   "id": "cc9bfde1-89cc-454f-9db8-48abb865a642",
   "metadata": {},
   "source": [
    "Some of the popular languages that Data Scientists use are:\n",
    "1. Python\n",
    "2. R\n",
    "3. SQL\n",
    "4. Scala\n",
    "5. Java\n",
    "6. C++"
   ]
  },
  {
   "cell_type": "markdown",
   "id": "24590996-40d0-4e45-b6a6-db97bbe49068",
   "metadata": {},
   "source": [
    "Some of the commonly used libraries used by Data Scientists include:\n",
    "1. Numpy\n",
    "2. Pandas\n",
    "3. Scipy\n",
    "4. Scikit-Learn\n",
    "5. TensorFlow\n",
    "6. PyTorch"
   ]
  },
  {
   "cell_type": "markdown",
   "id": "2d74b333-2f96-4d6d-a310-9e3439ea4f99",
   "metadata": {},
   "source": [
    "| Data Science Tools |\n",
    "| ------------------ |\n",
    "| JupyterLab |\n",
    "| Visual Studio Code |\n",
    "| Anaconda Navigator | \n",
    "| JupiterLite |\n",
    "| RStudio |"
   ]
  },
  {
   "cell_type": "markdown",
   "id": "d3ef982b-713a-4dbf-9dd6-0f419e1c0b9e",
   "metadata": {},
   "source": [
    "### Below are a few examples of evaluating arithmetic expression in Python"
   ]
  },
  {
   "cell_type": "code",
   "execution_count": 1,
   "id": "541eafd7-f373-483c-b3f4-d7e1aa83d97f",
   "metadata": {},
   "outputs": [
    {
     "data": {
      "text/plain": [
       "17"
      ]
     },
     "execution_count": 1,
     "metadata": {},
     "output_type": "execute_result"
    }
   ],
   "source": [
    "# This is a simple arithmetic expression to multiply then add integers\n",
    "(3*4)+5"
   ]
  },
  {
   "cell_type": "code",
   "execution_count": 2,
   "id": "3787a047-b3eb-4eac-92d1-a9f298df974b",
   "metadata": {},
   "outputs": [
    {
     "data": {
      "text/plain": [
       "3.3333333333333335"
      ]
     },
     "execution_count": 2,
     "metadata": {},
     "output_type": "execute_result"
    }
   ],
   "source": [
    "# This will convert 200 minutes to hours by dividing by 60\n",
    "200/60"
   ]
  },
  {
   "cell_type": "markdown",
   "id": "f4cd71b1-ddb5-4575-8723-64f01ced5cc5",
   "metadata": {},
   "source": [
    "## Author\n",
    "Tristan Sarton du Jonchay"
   ]
  },
  {
   "cell_type": "code",
   "execution_count": null,
   "id": "aa10e50c-a206-4f28-93f8-2be9b1a0240f",
   "metadata": {},
   "outputs": [],
   "source": []
  }
 ],
 "metadata": {
  "kernelspec": {
   "display_name": "Python 3 (ipykernel)",
   "language": "python",
   "name": "python3"
  },
  "language_info": {
   "codemirror_mode": {
    "name": "ipython",
    "version": 3
   },
   "file_extension": ".py",
   "mimetype": "text/x-python",
   "name": "python",
   "nbconvert_exporter": "python",
   "pygments_lexer": "ipython3",
   "version": "3.9.13"
  }
 },
 "nbformat": 4,
 "nbformat_minor": 5
}
